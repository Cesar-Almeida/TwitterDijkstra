{
  "nbformat": 4,
  "nbformat_minor": 0,
  "metadata": {
    "colab": {
      "provenance": []
    },
    "kernelspec": {
      "name": "python3",
      "display_name": "Python 3"
    },
    "language_info": {
      "name": "python"
    }
  },
  "cells": [
    {
      "cell_type": "code",
      "execution_count": null,
      "metadata": {
        "id": "peQ2mTeWdAof"
      },
      "outputs": [],
      "source": [
        "from nltk import word_tokenize\n",
        "import nltk\n",
        "import re\n",
        "import pandas as pd\n",
        "from sklearn.feature_extraction.text import CountVectorizer\n",
        "from sklearn.naive_bayes import MultinomialNB\n",
        "from sklearn import svm\n",
        "from sklearn import metrics\n",
        "from sklearn.model_selection import cross_val_predict"
      ]
    },
    {
      "cell_type": "code",
      "source": [
        "df = pd.read_csv('Tweets_Mg.csv', encoding='utf-8')"
      ],
      "metadata": {
        "id": "7qo1OA5KdIK_"
      },
      "execution_count": null,
      "outputs": []
    },
    {
      "cell_type": "code",
      "source": [
        "df.head()"
      ],
      "metadata": {
        "colab": {
          "base_uri": "https://localhost:8080/",
          "height": 664
        },
        "id": "NN6i7Rl7dIWX",
        "outputId": "ac63c9d1-fc9b-44d3-c815-5f5ada6d4fae"
      },
      "execution_count": null,
      "outputs": [
        {
          "output_type": "execute_result",
          "data": {
            "text/plain": [
              "   Unnamed: 0                      Created At  \\\n",
              "0           0  Sun Jan 08 01:22:05 +0000 2017   \n",
              "1           1  Sun Jan 08 01:49:01 +0000 2017   \n",
              "2           2  Sun Jan 08 01:01:46 +0000 2017   \n",
              "3           3  Wed Jan 04 21:43:51 +0000 2017   \n",
              "4           4  Mon Jan 09 15:08:21 +0000 2017   \n",
              "\n",
              "                                                Text  \\\n",
              "0  ���⛪ @ Catedral de Santo Antônio - Governador ...   \n",
              "1  � @ Governador Valadares, Minas Gerais https:/...   \n",
              "2  �� @ Governador Valadares, Minas Gerais https:...   \n",
              "3                        ��� https://t.co/BnDsO34qK0   \n",
              "4  ��� PSOL vai questionar aumento de vereadores ...   \n",
              "\n",
              "   Geo Coordinates.latitude  Geo Coordinates.longitude User Location  \\\n",
              "0                       NaN                        NaN        Brasil   \n",
              "1                  -41.9333                     -18.85           NaN   \n",
              "2                  -41.9333                     -18.85           NaN   \n",
              "3                       NaN                        NaN           NaN   \n",
              "4                       NaN                        NaN           NaN   \n",
              "\n",
              "               Username User Screen Name  Retweet Count Classificacao  ...  \\\n",
              "0  Leonardo C Schneider    LeoCSchneider              0        Neutro  ...   \n",
              "1               Wândell         klefnews              0        Neutro  ...   \n",
              "2               Wândell         klefnews              0        Neutro  ...   \n",
              "3         Ana estudando  estudandoconcur              0        Neutro  ...   \n",
              "4                 Emily         Milly777              0      Negativo  ...   \n",
              "\n",
              "  Unnamed: 15  Unnamed: 16  Unnamed: 17  Unnamed: 18  Unnamed: 19  \\\n",
              "0         NaN          NaN          NaN          NaN          NaN   \n",
              "1         NaN          NaN          NaN          NaN          NaN   \n",
              "2         NaN          NaN          NaN          NaN          NaN   \n",
              "3         NaN          NaN          NaN          NaN          NaN   \n",
              "4         NaN          NaN          NaN          NaN          NaN   \n",
              "\n",
              "   Unnamed: 20  Unnamed: 21  Unnamed: 22  Unnamed: 23  Unnamed: 24  \n",
              "0          NaN          NaN          NaN          NaN          NaN  \n",
              "1          NaN          NaN          NaN          NaN          NaN  \n",
              "2          NaN          NaN          NaN          NaN          NaN  \n",
              "3          NaN          NaN          NaN          NaN          NaN  \n",
              "4          NaN          NaN          NaN          NaN          NaN  \n",
              "\n",
              "[5 rows x 26 columns]"
            ],
            "text/html": [
              "\n",
              "  <div id=\"df-9354aae8-5d58-4bb5-aa8f-582714d35e26\">\n",
              "    <div class=\"colab-df-container\">\n",
              "      <div>\n",
              "<style scoped>\n",
              "    .dataframe tbody tr th:only-of-type {\n",
              "        vertical-align: middle;\n",
              "    }\n",
              "\n",
              "    .dataframe tbody tr th {\n",
              "        vertical-align: top;\n",
              "    }\n",
              "\n",
              "    .dataframe thead th {\n",
              "        text-align: right;\n",
              "    }\n",
              "</style>\n",
              "<table border=\"1\" class=\"dataframe\">\n",
              "  <thead>\n",
              "    <tr style=\"text-align: right;\">\n",
              "      <th></th>\n",
              "      <th>Unnamed: 0</th>\n",
              "      <th>Created At</th>\n",
              "      <th>Text</th>\n",
              "      <th>Geo Coordinates.latitude</th>\n",
              "      <th>Geo Coordinates.longitude</th>\n",
              "      <th>User Location</th>\n",
              "      <th>Username</th>\n",
              "      <th>User Screen Name</th>\n",
              "      <th>Retweet Count</th>\n",
              "      <th>Classificacao</th>\n",
              "      <th>...</th>\n",
              "      <th>Unnamed: 15</th>\n",
              "      <th>Unnamed: 16</th>\n",
              "      <th>Unnamed: 17</th>\n",
              "      <th>Unnamed: 18</th>\n",
              "      <th>Unnamed: 19</th>\n",
              "      <th>Unnamed: 20</th>\n",
              "      <th>Unnamed: 21</th>\n",
              "      <th>Unnamed: 22</th>\n",
              "      <th>Unnamed: 23</th>\n",
              "      <th>Unnamed: 24</th>\n",
              "    </tr>\n",
              "  </thead>\n",
              "  <tbody>\n",
              "    <tr>\n",
              "      <th>0</th>\n",
              "      <td>0</td>\n",
              "      <td>Sun Jan 08 01:22:05 +0000 2017</td>\n",
              "      <td>���⛪ @ Catedral de Santo Antônio - Governador ...</td>\n",
              "      <td>NaN</td>\n",
              "      <td>NaN</td>\n",
              "      <td>Brasil</td>\n",
              "      <td>Leonardo C Schneider</td>\n",
              "      <td>LeoCSchneider</td>\n",
              "      <td>0</td>\n",
              "      <td>Neutro</td>\n",
              "      <td>...</td>\n",
              "      <td>NaN</td>\n",
              "      <td>NaN</td>\n",
              "      <td>NaN</td>\n",
              "      <td>NaN</td>\n",
              "      <td>NaN</td>\n",
              "      <td>NaN</td>\n",
              "      <td>NaN</td>\n",
              "      <td>NaN</td>\n",
              "      <td>NaN</td>\n",
              "      <td>NaN</td>\n",
              "    </tr>\n",
              "    <tr>\n",
              "      <th>1</th>\n",
              "      <td>1</td>\n",
              "      <td>Sun Jan 08 01:49:01 +0000 2017</td>\n",
              "      <td>� @ Governador Valadares, Minas Gerais https:/...</td>\n",
              "      <td>-41.9333</td>\n",
              "      <td>-18.85</td>\n",
              "      <td>NaN</td>\n",
              "      <td>Wândell</td>\n",
              "      <td>klefnews</td>\n",
              "      <td>0</td>\n",
              "      <td>Neutro</td>\n",
              "      <td>...</td>\n",
              "      <td>NaN</td>\n",
              "      <td>NaN</td>\n",
              "      <td>NaN</td>\n",
              "      <td>NaN</td>\n",
              "      <td>NaN</td>\n",
              "      <td>NaN</td>\n",
              "      <td>NaN</td>\n",
              "      <td>NaN</td>\n",
              "      <td>NaN</td>\n",
              "      <td>NaN</td>\n",
              "    </tr>\n",
              "    <tr>\n",
              "      <th>2</th>\n",
              "      <td>2</td>\n",
              "      <td>Sun Jan 08 01:01:46 +0000 2017</td>\n",
              "      <td>�� @ Governador Valadares, Minas Gerais https:...</td>\n",
              "      <td>-41.9333</td>\n",
              "      <td>-18.85</td>\n",
              "      <td>NaN</td>\n",
              "      <td>Wândell</td>\n",
              "      <td>klefnews</td>\n",
              "      <td>0</td>\n",
              "      <td>Neutro</td>\n",
              "      <td>...</td>\n",
              "      <td>NaN</td>\n",
              "      <td>NaN</td>\n",
              "      <td>NaN</td>\n",
              "      <td>NaN</td>\n",
              "      <td>NaN</td>\n",
              "      <td>NaN</td>\n",
              "      <td>NaN</td>\n",
              "      <td>NaN</td>\n",
              "      <td>NaN</td>\n",
              "      <td>NaN</td>\n",
              "    </tr>\n",
              "    <tr>\n",
              "      <th>3</th>\n",
              "      <td>3</td>\n",
              "      <td>Wed Jan 04 21:43:51 +0000 2017</td>\n",
              "      <td>��� https://t.co/BnDsO34qK0</td>\n",
              "      <td>NaN</td>\n",
              "      <td>NaN</td>\n",
              "      <td>NaN</td>\n",
              "      <td>Ana estudando</td>\n",
              "      <td>estudandoconcur</td>\n",
              "      <td>0</td>\n",
              "      <td>Neutro</td>\n",
              "      <td>...</td>\n",
              "      <td>NaN</td>\n",
              "      <td>NaN</td>\n",
              "      <td>NaN</td>\n",
              "      <td>NaN</td>\n",
              "      <td>NaN</td>\n",
              "      <td>NaN</td>\n",
              "      <td>NaN</td>\n",
              "      <td>NaN</td>\n",
              "      <td>NaN</td>\n",
              "      <td>NaN</td>\n",
              "    </tr>\n",
              "    <tr>\n",
              "      <th>4</th>\n",
              "      <td>4</td>\n",
              "      <td>Mon Jan 09 15:08:21 +0000 2017</td>\n",
              "      <td>��� PSOL vai questionar aumento de vereadores ...</td>\n",
              "      <td>NaN</td>\n",
              "      <td>NaN</td>\n",
              "      <td>NaN</td>\n",
              "      <td>Emily</td>\n",
              "      <td>Milly777</td>\n",
              "      <td>0</td>\n",
              "      <td>Negativo</td>\n",
              "      <td>...</td>\n",
              "      <td>NaN</td>\n",
              "      <td>NaN</td>\n",
              "      <td>NaN</td>\n",
              "      <td>NaN</td>\n",
              "      <td>NaN</td>\n",
              "      <td>NaN</td>\n",
              "      <td>NaN</td>\n",
              "      <td>NaN</td>\n",
              "      <td>NaN</td>\n",
              "      <td>NaN</td>\n",
              "    </tr>\n",
              "  </tbody>\n",
              "</table>\n",
              "<p>5 rows × 26 columns</p>\n",
              "</div>\n",
              "      <button class=\"colab-df-convert\" onclick=\"convertToInteractive('df-9354aae8-5d58-4bb5-aa8f-582714d35e26')\"\n",
              "              title=\"Convert this dataframe to an interactive table.\"\n",
              "              style=\"display:none;\">\n",
              "        \n",
              "  <svg xmlns=\"http://www.w3.org/2000/svg\" height=\"24px\"viewBox=\"0 0 24 24\"\n",
              "       width=\"24px\">\n",
              "    <path d=\"M0 0h24v24H0V0z\" fill=\"none\"/>\n",
              "    <path d=\"M18.56 5.44l.94 2.06.94-2.06 2.06-.94-2.06-.94-.94-2.06-.94 2.06-2.06.94zm-11 1L8.5 8.5l.94-2.06 2.06-.94-2.06-.94L8.5 2.5l-.94 2.06-2.06.94zm10 10l.94 2.06.94-2.06 2.06-.94-2.06-.94-.94-2.06-.94 2.06-2.06.94z\"/><path d=\"M17.41 7.96l-1.37-1.37c-.4-.4-.92-.59-1.43-.59-.52 0-1.04.2-1.43.59L10.3 9.45l-7.72 7.72c-.78.78-.78 2.05 0 2.83L4 21.41c.39.39.9.59 1.41.59.51 0 1.02-.2 1.41-.59l7.78-7.78 2.81-2.81c.8-.78.8-2.07 0-2.86zM5.41 20L4 18.59l7.72-7.72 1.47 1.35L5.41 20z\"/>\n",
              "  </svg>\n",
              "      </button>\n",
              "      \n",
              "  <style>\n",
              "    .colab-df-container {\n",
              "      display:flex;\n",
              "      flex-wrap:wrap;\n",
              "      gap: 12px;\n",
              "    }\n",
              "\n",
              "    .colab-df-convert {\n",
              "      background-color: #E8F0FE;\n",
              "      border: none;\n",
              "      border-radius: 50%;\n",
              "      cursor: pointer;\n",
              "      display: none;\n",
              "      fill: #1967D2;\n",
              "      height: 32px;\n",
              "      padding: 0 0 0 0;\n",
              "      width: 32px;\n",
              "    }\n",
              "\n",
              "    .colab-df-convert:hover {\n",
              "      background-color: #E2EBFA;\n",
              "      box-shadow: 0px 1px 2px rgba(60, 64, 67, 0.3), 0px 1px 3px 1px rgba(60, 64, 67, 0.15);\n",
              "      fill: #174EA6;\n",
              "    }\n",
              "\n",
              "    [theme=dark] .colab-df-convert {\n",
              "      background-color: #3B4455;\n",
              "      fill: #D2E3FC;\n",
              "    }\n",
              "\n",
              "    [theme=dark] .colab-df-convert:hover {\n",
              "      background-color: #434B5C;\n",
              "      box-shadow: 0px 1px 3px 1px rgba(0, 0, 0, 0.15);\n",
              "      filter: drop-shadow(0px 1px 2px rgba(0, 0, 0, 0.3));\n",
              "      fill: #FFFFFF;\n",
              "    }\n",
              "  </style>\n",
              "\n",
              "      <script>\n",
              "        const buttonEl =\n",
              "          document.querySelector('#df-9354aae8-5d58-4bb5-aa8f-582714d35e26 button.colab-df-convert');\n",
              "        buttonEl.style.display =\n",
              "          google.colab.kernel.accessAllowed ? 'block' : 'none';\n",
              "\n",
              "        async function convertToInteractive(key) {\n",
              "          const element = document.querySelector('#df-9354aae8-5d58-4bb5-aa8f-582714d35e26');\n",
              "          const dataTable =\n",
              "            await google.colab.kernel.invokeFunction('convertToInteractive',\n",
              "                                                     [key], {});\n",
              "          if (!dataTable) return;\n",
              "\n",
              "          const docLinkHtml = 'Like what you see? Visit the ' +\n",
              "            '<a target=\"_blank\" href=https://colab.research.google.com/notebooks/data_table.ipynb>data table notebook</a>'\n",
              "            + ' to learn more about interactive tables.';\n",
              "          element.innerHTML = '';\n",
              "          dataTable['output_type'] = 'display_data';\n",
              "          await google.colab.output.renderOutput(dataTable, element);\n",
              "          const docLink = document.createElement('div');\n",
              "          docLink.innerHTML = docLinkHtml;\n",
              "          element.appendChild(docLink);\n",
              "        }\n",
              "      </script>\n",
              "    </div>\n",
              "  </div>\n",
              "  "
            ]
          },
          "metadata": {},
          "execution_count": 3
        }
      ]
    },
    {
      "cell_type": "code",
      "source": [
        "df.Classificacao.value_counts()"
      ],
      "metadata": {
        "colab": {
          "base_uri": "https://localhost:8080/"
        },
        "id": "5as00BxkdIfB",
        "outputId": "f0662b11-52c6-4c82-eec6-353453debb1c"
      },
      "execution_count": null,
      "outputs": [
        {
          "output_type": "execute_result",
          "data": {
            "text/plain": [
              "Positivo    3300\n",
              "Neutro      2453\n",
              "Negativo    2446\n",
              "Name: Classificacao, dtype: int64"
            ]
          },
          "metadata": {},
          "execution_count": 4
        }
      ]
    },
    {
      "cell_type": "code",
      "source": [
        "%matplotlib inline\n",
        "df.Classificacao.value_counts().plot(kind='bar')"
      ],
      "metadata": {
        "colab": {
          "base_uri": "https://localhost:8080/",
          "height": 317
        },
        "id": "YYYq6czJgClU",
        "outputId": "8cfb2cca-85e7-4e0d-94de-03d7c4d640bc"
      },
      "execution_count": null,
      "outputs": [
        {
          "output_type": "execute_result",
          "data": {
            "text/plain": [
              "<matplotlib.axes._subplots.AxesSubplot at 0x7fce4ca0bf90>"
            ]
          },
          "metadata": {},
          "execution_count": 5
        },
        {
          "output_type": "display_data",
          "data": {
            "text/plain": [
              "<Figure size 432x288 with 1 Axes>"
            ],
            "image/png": "[encoded data removed]"
          },
          "metadata": {
            "needs_background": "light"
          }
        }
      ]
    },
    {
      "cell_type": "code",
      "source": [
        "df.count()"
      ],
      "metadata": {
        "colab": {
          "base_uri": "https://localhost:8080/"
        },
        "id": "OZbcUOB-gCn_",
        "outputId": "d65e3d62-6c06-4f9d-8693-d1f6653ae6c3"
      },
      "execution_count": null,
      "outputs": [
        {
          "output_type": "execute_result",
          "data": {
            "text/plain": [
              "Unnamed: 0                   8199\n",
              "Created At                   8199\n",
              "Text                         8199\n",
              "Geo Coordinates.latitude      104\n",
              "Geo Coordinates.longitude     104\n",
              "User Location                5489\n",
              "Username                     8199\n",
              "User Screen Name             8199\n",
              "Retweet Count                8199\n",
              "Classificacao                8199\n",
              "Observação                      1\n",
              "Unnamed: 10                     0\n",
              "Unnamed: 11                     0\n",
              "Unnamed: 12                     0\n",
              "Unnamed: 13                     0\n",
              "Unnamed: 14                     0\n",
              "Unnamed: 15                     0\n",
              "Unnamed: 16                     0\n",
              "Unnamed: 17                     0\n",
              "Unnamed: 18                     0\n",
              "Unnamed: 19                     0\n",
              "Unnamed: 20                     0\n",
              "Unnamed: 21                     0\n",
              "Unnamed: 22                     0\n",
              "Unnamed: 23                     0\n",
              "Unnamed: 24                     0\n",
              "dtype: int64"
            ]
          },
          "metadata": {},
          "execution_count": 6
        }
      ]
    },
    {
      "cell_type": "code",
      "source": [
        "df.drop_duplicates(['Text'], inplace=True)"
      ],
      "metadata": {
        "id": "BQNj5M07gCra"
      },
      "execution_count": null,
      "outputs": []
    },
    {
      "cell_type": "code",
      "source": [
        "df.Text.count()"
      ],
      "metadata": {
        "colab": {
          "base_uri": "https://localhost:8080/"
        },
        "id": "BbPscC7OgCt8",
        "outputId": "d3acf039-239c-4bb9-913c-a46be12c9787"
      },
      "execution_count": null,
      "outputs": [
        {
          "output_type": "execute_result",
          "data": {
            "text/plain": [
              "5765"
            ]
          },
          "metadata": {},
          "execution_count": 8
        }
      ]
    },
    {
      "cell_type": "code",
      "source": [
        "tweets = df['Text']\n",
        "classes = df['Classificacao']"
      ],
      "metadata": {
        "id": "-O4wyft9gCxu"
      },
      "execution_count": null,
      "outputs": []
    },
    {
      "cell_type": "code",
      "source": [
        "import nltk\n",
        "nltk.download('stopwords')\n",
        "nltk.download('rslp')\n",
        "nltk.download('punkt')\n",
        "nltk.download('wordnet')"
      ],
      "metadata": {
        "colab": {
          "base_uri": "https://localhost:8080/"
        },
        "id": "k_90Ykt2iJir",
        "outputId": "396b1ae8-ec4b-42d5-8f50-f58f6c90cbff"
      },
      "execution_count": null,
      "outputs": [
        {
          "output_type": "stream",
          "name": "stderr",
          "text": [
            "[nltk_data] Downloading package stopwords to /root/nltk_data...\n",
            "[nltk_data]   Unzipping corpora/stopwords.zip.\n",
            "[nltk_data] Downloading package rslp to /root/nltk_data...\n",
            "[nltk_data]   Unzipping stemmers/rslp.zip.\n",
            "[nltk_data] Downloading package punkt to /root/nltk_data...\n",
            "[nltk_data]   Unzipping tokenizers/punkt.zip.\n",
            "[nltk_data] Downloading package wordnet to /root/nltk_data...\n"
          ]
        },
        {
          "output_type": "execute_result",
          "data": {
            "text/plain": [
              "True"
            ]
          },
          "metadata": {},
          "execution_count": 10
        }
      ]
    },
    {
      "cell_type": "code",
      "source": [
        "def PreprocessamentoSemStopWords(instancia):\n",
        "    instancia = re.sub(r\"http\\S+\", \"\", instancia).lower().replace(',','').replace('.','').replace(';','').replace('-','').replace('?','').replace('!','')\n",
        "    stopwords = set(nltk.corpus.stopwords.words('portuguese'))\n",
        "    palavras = [i for i in instancia.split() if not i in stopwords]\n",
        "    return (\" \".join(palavras))"
      ],
      "metadata": {
        "id": "nrgPEoBdiJoO"
      },
      "execution_count": null,
      "outputs": []
    },
    {
      "cell_type": "code",
      "source": [
        "def Stemming(instancia):\n",
        "    stemmer = nltk.stem.RSLPStemmer()\n",
        "    palavras=[]\n",
        "    for w in instancia.split():\n",
        "        palavras.append(stemmer.stem(w))\n",
        "    return (\" \".join(palavras))    "
      ],
      "metadata": {
        "id": "DmYjrGqxiJqs"
      },
      "execution_count": null,
      "outputs": []
    },
    {
      "cell_type": "code",
      "source": [
        "PreprocessamentoSemStopWords('Eu não gosto do partido, e também não votaria novamente nesse governante!')"
      ],
      "metadata": {
        "colab": {
          "base_uri": "https://localhost:8080/",
          "height": 35
        },
        "id": "Tnv7k0WSiJtc",
        "outputId": "38fd0c80-67c9-4858-83ac-abb6c82f0091"
      },
      "execution_count": null,
      "outputs": [
        {
          "output_type": "execute_result",
          "data": {
            "text/plain": [
              "'gosto partido votaria novamente nesse governante'"
            ],
            "application/vnd.google.colaboratory.intrinsic+json": {
              "type": "string"
            }
          },
          "metadata": {},
          "execution_count": 13
        }
      ]
    },
    {
      "cell_type": "code",
      "source": [
        "Stemming('Eu não gosto do partido, e também não votaria novamente nesse governante!')"
      ],
      "metadata": {
        "colab": {
          "base_uri": "https://localhost:8080/",
          "height": 35
        },
        "id": "8nYcvKONiJwB",
        "outputId": "189cf7da-5719-4d61-fd2a-22a7d18b9f42"
      },
      "execution_count": null,
      "outputs": [
        {
          "output_type": "execute_result",
          "data": {
            "text/plain": [
              "'eu não gost do partido, e também não vot nov ness governante!'"
            ],
            "application/vnd.google.colaboratory.intrinsic+json": {
              "type": "string"
            }
          },
          "metadata": {},
          "execution_count": 14
        }
      ]
    },
    {
      "cell_type": "code",
      "source": [
        "from nltk.tokenize import word_tokenize"
      ],
      "metadata": {
        "id": "-nv5O1U-mVDe"
      },
      "execution_count": null,
      "outputs": []
    },
    {
      "cell_type": "code",
      "source": [
        "from nltk.tokenize import TweetTokenizer"
      ],
      "metadata": {
        "id": "vjMDYfxLBDXI"
      },
      "execution_count": null,
      "outputs": []
    },
    {
      "cell_type": "code",
      "source": [
        "tweet_tokenizer = TweetTokenizer()"
      ],
      "metadata": {
        "id": "LyynwZu2BLKP"
      },
      "execution_count": null,
      "outputs": []
    },
    {
      "cell_type": "code",
      "source": [
        "frase = 'Investimento em estudo é algo importante a se fazer'"
      ],
      "metadata": {
        "id": "1JZLEweXnTww"
      },
      "execution_count": null,
      "outputs": []
    },
    {
      "cell_type": "code",
      "source": [
        "tweet_tokenizer.tokenize(frase)"
      ],
      "metadata": {
        "colab": {
          "base_uri": "https://localhost:8080/"
        },
        "id": "mw54OW4InCtd",
        "outputId": "a094d7b4-6827-43f5-d300-88ba7b3d1792"
      },
      "execution_count": null,
      "outputs": [
        {
          "output_type": "execute_result",
          "data": {
            "text/plain": [
              "['Investimento', 'em', 'estudo', 'é', 'algo', 'importante', 'a', 'se', 'fazer']"
            ]
          },
          "metadata": {},
          "execution_count": 19
        }
      ]
    },
    {
      "cell_type": "code",
      "source": [
        "vectorizer = CountVectorizer(analyzer=\"word\", tokenizer=tweet_tokenizer.tokenize)"
      ],
      "metadata": {
        "id": "kfVNdbxcnnsH"
      },
      "execution_count": null,
      "outputs": []
    },
    {
      "cell_type": "code",
      "source": [
        "freq_tweets =vectorizer.fit_transform(tweets)\n",
        "type(freq_tweets)"
      ],
      "metadata": {
        "colab": {
          "base_uri": "https://localhost:8080/"
        },
        "id": "2eMnaW_Qn2bd",
        "outputId": "4a94bc87-4cbd-4f59-925e-01bedf182369"
      },
      "execution_count": null,
      "outputs": [
        {
          "output_type": "execute_result",
          "data": {
            "text/plain": [
              "scipy.sparse.csr.csr_matrix"
            ]
          },
          "metadata": {},
          "execution_count": 21
        }
      ]
    },
    {
      "cell_type": "code",
      "source": [
        "freq_tweets.shape"
      ],
      "metadata": {
        "colab": {
          "base_uri": "https://localhost:8080/"
        },
        "id": "IxrMQBdvonfh",
        "outputId": "e564225c-9eee-4f27-93f7-876cf6f2e6dc"
      },
      "execution_count": null,
      "outputs": [
        {
          "output_type": "execute_result",
          "data": {
            "text/plain": [
              "(5765, 13362)"
            ]
          },
          "metadata": {},
          "execution_count": 22
        }
      ]
    },
    {
      "cell_type": "code",
      "source": [
        "from nltk.tokenize import TweetTokenizer"
      ],
      "metadata": {
        "id": "rWTlXEl0mxNl"
      },
      "execution_count": null,
      "outputs": []
    },
    {
      "cell_type": "code",
      "source": [
        "tweet_tokenizer = TweetTokenizer()"
      ],
      "metadata": {
        "id": "HpgMSPiTm5Tb"
      },
      "execution_count": null,
      "outputs": []
    },
    {
      "cell_type": "code",
      "source": [
        "vectorizer = CountVectorizer(analyzer=\"word\")\n",
        "freq_tweets = vectorizer.fit_transform(tweets)\n",
        "modelo = MultinomialNB()\n",
        "modelo.fit(freq_tweets,classes)"
      ],
      "metadata": {
        "colab": {
          "base_uri": "https://localhost:8080/"
        },
        "id": "gKkW9VJQiJzD",
        "outputId": "626f2eee-5c8a-4885-f025-dfabf78c4412"
      },
      "execution_count": null,
      "outputs": [
        {
          "output_type": "execute_result",
          "data": {
            "text/plain": [
              "MultinomialNB()"
            ]
          },
          "metadata": {},
          "execution_count": 25
        }
      ]
    },
    {
      "cell_type": "code",
      "source": [
        "testes = ['Esse governo está no início, vamos ver o que vai dar','Estou muito feliz com o governo de Minas esse ano','O estado de Minas Gerais decretou calamidade financeira!!!','A segurança desse país está deixando a desejar','O governador de Minas é do PT']"
      ],
      "metadata": {
        "id": "SLEDDJlnkVA2"
      },
      "execution_count": null,
      "outputs": []
    },
    {
      "cell_type": "code",
      "source": [
        "tl = pd.read_json('tweets_limpos.json',orient = 'records', dtype={\"created_at\":int, \"tweet\":str, \"cleaned_tweets\":str, \"user_id\":str})"
      ],
      "metadata": {
        "colab": {
          "base_uri": "https://localhost:8080/"
        },
        "id": "RubydL4urSrr",
        "outputId": "08f047a2-a868-4708-b5bf-eaaf4ee16680"
      },
      "execution_count": null,
      "outputs": [
        {
          "output_type": "stream",
          "name": "stderr",
          "text": [
            "/usr/local/lib/python3.7/dist-packages/ipykernel_launcher.py:1: FutureWarning: casting datetime64[ns] values to int64 with .astype(...) is deprecated and will raise in a future version. Use .view(...) instead.\n",
            "  \"\"\"Entry point for launching an IPython kernel.\n"
          ]
        }
      ]
    },
    {
      "cell_type": "code",
      "source": [
        "tweetsLimpos = tl['cleaned_tweets']"
      ],
      "metadata": {
        "id": "6baEjGHouA_p"
      },
      "execution_count": null,
      "outputs": []
    },
    {
      "cell_type": "code",
      "source": [
        "freq_testes = vectorizer.transform(tweetsLimpos)"
      ],
      "metadata": {
        "id": "hehabo8OtJly"
      },
      "execution_count": null,
      "outputs": []
    },
    {
      "cell_type": "code",
      "source": [
        "# freq_testes = vectorizer.transform(testes)"
      ],
      "metadata": {
        "id": "2VYeo0FpkVDz"
      },
      "execution_count": null,
      "outputs": []
    },
    {
      "cell_type": "code",
      "source": [
        "modelo.predict(freq_testes)"
      ],
      "metadata": {
        "colab": {
          "base_uri": "https://localhost:8080/"
        },
        "id": "Hl65mAyQkVHF",
        "outputId": "61907fa2-91c3-4ceb-8e9d-45aeff3e2e85"
      },
      "execution_count": null,
      "outputs": [
        {
          "output_type": "execute_result",
          "data": {
            "text/plain": [
              "array(['Neutro', 'Positivo', 'Neutro', 'Negativo', 'Neutro', 'Neutro',\n",
              "       'Neutro', 'Negativo', 'Neutro', 'Neutro', 'Neutro', 'Negativo',\n",
              "       'Neutro', 'Negativo', 'Neutro', 'Neutro', 'Negativo', 'Negativo',\n",
              "       'Negativo', 'Neutro', 'Negativo', 'Neutro', 'Neutro', 'Neutro',\n",
              "       'Neutro', 'Negativo', 'Neutro', 'Neutro', 'Neutro', 'Negativo',\n",
              "       'Negativo', 'Neutro', 'Negativo', 'Neutro', 'Neutro', 'Neutro',\n",
              "       'Neutro', 'Neutro', 'Negativo', 'Neutro', 'Neutro', 'Neutro',\n",
              "       'Neutro', 'Neutro', 'Positivo', 'Neutro', 'Neutro', 'Neutro',\n",
              "       'Neutro', 'Positivo'], dtype='<U8')"
            ]
          },
          "metadata": {},
          "execution_count": 31
        }
      ]
    },
    {
      "cell_type": "code",
      "source": [
        "tl['sentimento'] = modelo.predict(freq_testes)"
      ],
      "metadata": {
        "id": "vRwuTazsAFae"
      },
      "execution_count": null,
      "outputs": []
    },
    {
      "cell_type": "code",
      "source": [
        "tl"
      ],
      "metadata": {
        "colab": {
          "base_uri": "https://localhost:8080/",
          "height": 1000
        },
        "id": "OJTZ5f6vBXIw",
        "outputId": "88f96830-fda6-4d2b-8f04-cb8255ad8615"
      },
      "execution_count": null,
      "outputs": [
        {
          "output_type": "execute_result",
          "data": {
            "text/plain": [
              "             created_at              user_id  \\\n",
              "0   1664126228000000000  1574085607831257088   \n",
              "1   1664126221000000000  1574085578424926208   \n",
              "2   1664126204000000000  1574085506052214784   \n",
              "3   1664126134000000000  1574085211633360896   \n",
              "4   1664126097000000000  1574085056783597568   \n",
              "5   1664126037000000000  1574084806756950016   \n",
              "6   1664126035000000000  1574084799484010496   \n",
              "7   1664126035000000000  1574084799391834112   \n",
              "8   1664126031000000000  1574084778839580672   \n",
              "9   1664126007000000000  1574084682269892608   \n",
              "10  1664126004000000000  1574084667082702848   \n",
              "11  1664125998000000000  1574084640998039552   \n",
              "12  1664125993000000000  1574084622769602560   \n",
              "13  1664125957000000000  1574084472487682048   \n",
              "14  1664125943000000000  1574084410147749888   \n",
              "15  1664125896000000000  1574084212591845376   \n",
              "16  1664125891000000000  1574084194254442496   \n",
              "17  1664125836000000000  1574083964398366720   \n",
              "18  1664125824000000000  1574083912326086656   \n",
              "19  1664125744000000000  1574083575024156672   \n",
              "20  1664125678000000000  1574083299823259648   \n",
              "21  1664125648000000000  1574083175940243456   \n",
              "22  1664125645000000000  1574083162505887744   \n",
              "23  1664125615000000000  1574083034688749568   \n",
              "24  1664125589000000000  1574082928820523008   \n",
              "25  1664125547000000000  1574082752911052800   \n",
              "26  1664125542000000000  1574082728408272896   \n",
              "27  1664125360000000000  1574081966512775168   \n",
              "28  1664125315000000000  1574081776401584128   \n",
              "29  1664125298000000000  1574081704418938880   \n",
              "30  1664125286000000000  1574081656159457280   \n",
              "31  1664125237000000000  1574081449162055680   \n",
              "32  1664125223000000000  1574081389791682560   \n",
              "33  1664125220000000000  1574081378609922048   \n",
              "34  1664125177000000000  1574081196853690368   \n",
              "35  1664125124000000000  1574080974941569024   \n",
              "36  1664125109000000000  1574080913922670592   \n",
              "37  1664125091000000000  1574080840308756480   \n",
              "38  1664125061000000000  1574080710675161088   \n",
              "39  1664125006000000000  1574080482954051584   \n",
              "40  1664124995000000000  1574080434807373824   \n",
              "41  1664124962000000000  1574080296588394496   \n",
              "42  1664124942000000000  1574080212966543360   \n",
              "43  1664124928000000000  1574080152891719680   \n",
              "44  1664124913000000000  1574080093500198912   \n",
              "45  1664124860000000000  1574079868551286784   \n",
              "46  1664124745000000000  1574079385413492736   \n",
              "47  1664124705000000000  1574079220476674048   \n",
              "48  1664124694000000000  1574079174687412224   \n",
              "49  1664124664000000000  1574079045397979136   \n",
              "\n",
              "                                                tweet  \\\n",
              "0   @ThiagoS84284297 @arenasantoreis @DaniloGentil...   \n",
              "1   hj no ponto de ônibus enquanto esperava o ônib...   \n",
              "2   Um dia chegará na msm moeda (se n já chegou) e...   \n",
              "3   raramente achei dinheiro na rua, um dia vi uma...   \n",
              "4   RT @draugustonasser: “(...) Não se podia compr...   \n",
              "5   RT @frajolin: esse é o frajola teve obstrução ...   \n",
              "6   RT @lemonapp_br: Se falamos de blockchain, $BU...   \n",
              "7   @Wess101088 @tesoureiros 51 imoveis que foram ...   \n",
              "8   Vou pagar na mesma moeda até a pessoa se senti...   \n",
              "9   @diogo_rossi ai sim,eu não manjo muito de como...   \n",
              "10  @CLEBERJUNIOARTI @LulaOficial 51 imóveis em mo...   \n",
              "11  RT @ramonagusyeva: A Sérvia é um país com uma ...   \n",
              "12  @BoessioMonica Os Minions estão dizendo que mo...   \n",
              "13  @GuilhermeBoulos Nunca vi comprar imóvel com d...   \n",
              "14  gente acabou de me ocorrer uma coisa aqui que ...   \n",
              "15  @liviaqui Eu sou a favor de pagar na mesma moe...   \n",
              "16  RT @hibraindeiver: @freu_rodrigues Eu moro no ...   \n",
              "17  \"Não foi em dinheiro vivo, foi em moeda corren...   \n",
              "18  A Sérvia é um país com uma população em torno ...   \n",
              "19  @dojeitoquefor @OscarFilho Aproveita que tá no...   \n",
              "20  @folha A esquerda tóxica ainda não entendeu  q...   \n",
              "21  Quando tudo melhorar espero que não digam por ...   \n",
              "22  @andretrig Não adianta espernear, para hoje só...   \n",
              "23  RT @derflecha: essa reportagem do FT é assusta...   \n",
              "24                                   Vou p Moeda 🥳🥳🥳🥳   \n",
              "25   Rebeca conheceu os dois lados da moeda kkkkkkkkk   \n",
              "26  RT @ToF_BR: #TowerofFantasy ⚔ Corrida de Supri...   \n",
              "27  RT @tisemherois: Interessante... os EUA hipote...   \n",
              "28  @KauzinCRF Fan token \\n\\nO fan token é um util...   \n",
              "29         @folha Moeda corrente não é dinheiro vivo.   \n",
              "30  @glauber1rocha @jribeiromello @UOLNoticias Se ...   \n",
              "31  RT @tylersigma: (juntando moeda pra comprar pã...   \n",
              "32  @FachinettiJean @FlavioBolsonaro Luladrão não ...   \n",
              "33  eu fiz dois storys na moeda ontem, mano??? eu ...   \n",
              "34  RT @BlogNetoin: Em Delicious Party Precure, um...   \n",
              "35  Vish, paro pra pensar e olhe, eu já fui muito ...   \n",
              "36  @KPst8708 @desbocadadobar @Metropoles Moeda co...   \n",
              "37  @veramagalhaes @julianadalpiva Eu comprei meu ...   \n",
              "38  @Neca_Gi @CarlosBolsonaro Vc tem noção ou sabe...   \n",
              "39  A Simone quer ser FEMINISTA, fazer pose de Fem...   \n",
              "40  RT @SueliLeticia: @Pinarbrasil Fazendo uma mág...   \n",
              "41  @Pinarbrasil Fazendo uma mágica com uma moeda ...   \n",
              "42  (juntando moeda pra comprar pão doce literalme...   \n",
              "43  RT @MinseokBrazil: [#VID] 25.09.22 | Xiumin no...   \n",
              "44  @yukkikayama @belamattos_ @M_passart Acho que ...   \n",
              "45  Moeda corrente é a moeda adotada em um país: n...   \n",
              "46    @WAlexssandro Quase larguei uma moeda na virada   \n",
              "47  céu assim com 20 reais em moeda https://t.co/q...   \n",
              "48  Uma grande honra para um grande fã de tênis! 💙...   \n",
              "49  nossa mas se existisse um evento de fandons c ...   \n",
              "\n",
              "                                         preprocessed  \\\n",
              "0   @thiagos84284297 @arenasantoreis @danilogentil...   \n",
              "1   hj ponto ônibus enquanto esperava ônibus ouvin...   \n",
              "2   dia chegará msm moeda n chegou vou adorar assi...   \n",
              "3   raramente achei dinheiro rua dia vi pessoa dei...   \n",
              "4   @draugustonasser “ podia comprar tempo única m...   \n",
              "5   @frajolin frajola obstrução urinária passar 2 ...   \n",
              "6   @lemonapp_br falamos blockchain $busd token er...   \n",
              "7   @wess101088 @tesoureiros 51 imoveis moeda corr...   \n",
              "8             vou pagar mesma moeda pessoa sentir mal   \n",
              "9   @diogo_rossi ai simeu manjo moeda dolar bem es...   \n",
              "10  @cleberjunioai @lulaoficial 51 imóveis moeda c...   \n",
              "11  @ramonagusyeva sérvia país população torno 7 m...   \n",
              "12  @boessiomonica minions dizendo moeda corrente ...   \n",
              "13  @guilhermeboulos nunca vi comprar imóvel dinhe...   \n",
              "14  gente acabou ocorrer coisa aqui talvez expliqu...   \n",
              "15  @liviaqui favor pagar mesma moeda constranger omi   \n",
              "16  @hibraindeiver @freu_rodrigues moro interior m...   \n",
              "17  \"não dinheiro vivo moeda corrente\" penseeee pr...   \n",
              "18  sérvia país população torno 7 milhões habitant...   \n",
              "19  @dojeitoquefor @oscarfilho aproveita tá google...   \n",
              "20  @folha esquerda tóxica ainda entendeu q povo s...   \n",
              "21  tudo melhorar espero digam aí marra soberba si...   \n",
              "22  @andretrig adianta espernear hoje bosta bolson...   \n",
              "23  @derflecha repoagem ft assustadora ocidente co...   \n",
              "24                                   vou p moeda 🥳🥳🥳🥳   \n",
              "25         rebeca conheceu dois lados moeda kkkkkkkkk   \n",
              "26  @tof_br #toweroffantasy ⚔ corrida suprimentos ...   \n",
              "27  @tisemherois interessante eua hipoteca apoio l...   \n",
              "28  @kauzincrf fan token fan token utility token l...   \n",
              "29                @folha moeda corrente dinheiro vivo   \n",
              "30  @glauber1rocha @jribeiromello @uolnoticias jor...   \n",
              "31  @tylersigma juntando moeda pra comprar pão doc...   \n",
              "32  @fachinettijean @flaviobolsonaro luladrão comp...   \n",
              "33  fiz dois storys moeda ontem mano??? naquela hr...   \n",
              "34  @blognetoin delicious pay precure novo poder a...   \n",
              "35  vish paro pra pensar olhe pagar tudo mesma moe...   \n",
              "36  @kpst8708 @desbocadadobar @metropoles moeda co...   \n",
              "37  @veramagalhaes @julianadalpiva comprei apto ch...   \n",
              "38  @neca_gi @carlosbolsonaro noção sabe diferenci...   \n",
              "39  simone quer feminista fazer pose feminista tem...   \n",
              "40  @suelileticia @pinarbrasil fazendo mágica moed...   \n",
              "41        @pinarbrasil fazendo mágica moeda #zorkarar   \n",
              "42  juntando moeda pra comprar pão doce literalmen...   \n",
              "43  @minseokbrazil [#vid] 250922 | xiumin hk coin ...   \n",
              "44  @yukkikayama @belamattos_ @m_passa acho vended...   \n",
              "45  moeda corrente moeda adotada país brasil real ...   \n",
              "46           @walexssandro quase larguei moeda virada   \n",
              "47                           céu assim 20 reais moeda   \n",
              "48  grande honra grande fã tênis! 💙 tom hiddleston...   \n",
              "49  existisse evento fandons c cz blink fotografad...   \n",
              "\n",
              "                                       cleaned_tweets sentimento  \n",
              "0    thiagos84284297  arenasantoreis  danilogentil...     Neutro  \n",
              "1   hj ponto ônibus enquanto esperava ônibus ouvin...   Positivo  \n",
              "2   dia chegará msm moeda n chegou vou adorar assi...     Neutro  \n",
              "3   raramente achei dinheiro rua dia vi pessoa dei...   Negativo  \n",
              "4    draugustonasser   podia comprar tempo única m...     Neutro  \n",
              "5    frajolin frajola obstrução urinária passar 2 ...     Neutro  \n",
              "6    lemonapp br falamos blockchain  busd token er...     Neutro  \n",
              "7    wess101088  tesoureiros 51 imoveis moeda corr...   Negativo  \n",
              "8             vou pagar mesma moeda pessoa sentir mal     Neutro  \n",
              "9    diogo rossi ai simeu manjo moeda dolar bem es...     Neutro  \n",
              "10   cleberjunioai  lulaoficial 51 imóveis moeda c...     Neutro  \n",
              "11   ramonagusyeva sérvia país população torno 7 m...   Negativo  \n",
              "12   boessiomonica minions dizendo moeda corrente ...     Neutro  \n",
              "13   guilhermeboulos nunca vi comprar imóvel dinhe...   Negativo  \n",
              "14  gente acabou ocorrer coisa aqui talvez expliqu...     Neutro  \n",
              "15   liviaqui favor pagar mesma moeda constranger omi     Neutro  \n",
              "16   hibraindeiver  freu rodrigues moro interior m...   Negativo  \n",
              "17   não dinheiro vivo moeda corrente  penseeee pr...   Negativo  \n",
              "18  sérvia país população torno 7 milhões habitant...   Negativo  \n",
              "19   dojeitoquefor  oscarfilho aproveita tá google...     Neutro  \n",
              "20   folha esquerda tóxica ainda entendeu q povo s...   Negativo  \n",
              "21  tudo melhorar espero digam aí marra soberba si...     Neutro  \n",
              "22   andretrig adianta espernear hoje bosta bolson...     Neutro  \n",
              "23   derflecha repoagem ft assustadora ocidente co...     Neutro  \n",
              "24                                   vou p moeda          Neutro  \n",
              "25         rebeca conheceu dois lados moeda kkkkkkkkk   Negativo  \n",
              "26   tof br  toweroffantasy   corrida suprimentos ...     Neutro  \n",
              "27   tisemherois interessante eua hipoteca apoio l...     Neutro  \n",
              "28   kauzincrf fan token fan token utility token l...     Neutro  \n",
              "29                 folha moeda corrente dinheiro vivo   Negativo  \n",
              "30   glauber1rocha  jribeiromello  uolnoticias jor...   Negativo  \n",
              "31   tylersigma juntando moeda pra comprar pão doc...     Neutro  \n",
              "32   fachinettijean  flaviobolsonaro luladrão comp...   Negativo  \n",
              "33  fiz dois storys moeda ontem mano    naquela hr...     Neutro  \n",
              "34   blognetoin delicious pay precure novo poder a...     Neutro  \n",
              "35  vish paro pra pensar olhe pagar tudo mesma moe...     Neutro  \n",
              "36   kpst8708  desbocadadobar  metropoles moeda co...     Neutro  \n",
              "37   veramagalhaes  julianadalpiva comprei apto ch...     Neutro  \n",
              "38   neca gi  carlosbolsonaro noção sabe diferenci...   Negativo  \n",
              "39  simone quer feminista fazer pose feminista tem...     Neutro  \n",
              "40   suelileticia  pinarbrasil fazendo mágica moed...     Neutro  \n",
              "41         pinarbrasil fazendo mágica moeda  zorkarar     Neutro  \n",
              "42  juntando moeda pra comprar pão doce literalmen...     Neutro  \n",
              "43   minseokbrazil   vid  250922   xiumin hk coin ...     Neutro  \n",
              "44   yukkikayama  belamattos   m passa acho vended...   Positivo  \n",
              "45  moeda corrente moeda adotada país brasil real ...     Neutro  \n",
              "46            walexssandro quase larguei moeda virada     Neutro  \n",
              "47                           céu assim 20 reais moeda     Neutro  \n",
              "48  grande honra grande fã tênis    tom hiddleston...     Neutro  \n",
              "49  existisse evento fandons c cz blink fotografad...   Positivo  "
            ],
            "text/html": [
              "\n",
              "  <div id=\"df-937ab1d8-4481-437a-81fa-1c923a49e5ca\">\n",
              "    <div class=\"colab-df-container\">\n",
              "      <div>\n",
              "<style scoped>\n",
              "    .dataframe tbody tr th:only-of-type {\n",
              "        vertical-align: middle;\n",
              "    }\n",
              "\n",
              "    .dataframe tbody tr th {\n",
              "        vertical-align: top;\n",
              "    }\n",
              "\n",
              "    .dataframe thead th {\n",
              "        text-align: right;\n",
              "    }\n",
              "</style>\n",
              "<table border=\"1\" class=\"dataframe\">\n",
              "  <thead>\n",
              "    <tr style=\"text-align: right;\">\n",
              "      <th></th>\n",
              "      <th>created_at</th>\n",
              "      <th>user_id</th>\n",
              "      <th>tweet</th>\n",
              "      <th>preprocessed</th>\n",
              "      <th>cleaned_tweets</th>\n",
              "      <th>sentimento</th>\n",
              "    </tr>\n",
              "  </thead>\n",
              "  <tbody>\n",
              "    <tr>\n",
              "      <th>0</th>\n",
              "      <td>1664126228000000000</td>\n",
              "      <td>1574085607831257088</td>\n",
              "      <td>@ThiagoS84284297 @arenasantoreis @DaniloGentil...</td>\n",
              "      <td>@thiagos84284297 @arenasantoreis @danilogentil...</td>\n",
              "      <td>thiagos84284297  arenasantoreis  danilogentil...</td>\n",
              "      <td>Neutro</td>\n",
              "    </tr>\n",
              "    <tr>\n",
              "      <th>1</th>\n",
              "      <td>1664126221000000000</td>\n",
              "      <td>1574085578424926208</td>\n",
              "      <td>hj no ponto de ônibus enquanto esperava o ônib...</td>\n",
              "      <td>hj ponto ônibus enquanto esperava ônibus ouvin...</td>\n",
              "      <td>hj ponto ônibus enquanto esperava ônibus ouvin...</td>\n",
              "      <td>Positivo</td>\n",
              "    </tr>\n",
              "    <tr>\n",
              "      <th>2</th>\n",
              "      <td>1664126204000000000</td>\n",
              "      <td>1574085506052214784</td>\n",
              "      <td>Um dia chegará na msm moeda (se n já chegou) e...</td>\n",
              "      <td>dia chegará msm moeda n chegou vou adorar assi...</td>\n",
              "      <td>dia chegará msm moeda n chegou vou adorar assi...</td>\n",
              "      <td>Neutro</td>\n",
              "    </tr>\n",
              "    <tr>\n",
              "      <th>3</th>\n",
              "      <td>1664126134000000000</td>\n",
              "      <td>1574085211633360896</td>\n",
              "      <td>raramente achei dinheiro na rua, um dia vi uma...</td>\n",
              "      <td>raramente achei dinheiro rua dia vi pessoa dei...</td>\n",
              "      <td>raramente achei dinheiro rua dia vi pessoa dei...</td>\n",
              "      <td>Negativo</td>\n",
              "    </tr>\n",
              "    <tr>\n",
              "      <th>4</th>\n",
              "      <td>1664126097000000000</td>\n",
              "      <td>1574085056783597568</td>\n",
              "      <td>RT @draugustonasser: “(...) Não se podia compr...</td>\n",
              "      <td>@draugustonasser “ podia comprar tempo única m...</td>\n",
              "      <td>draugustonasser   podia comprar tempo única m...</td>\n",
              "      <td>Neutro</td>\n",
              "    </tr>\n",
              "    <tr>\n",
              "      <th>5</th>\n",
              "      <td>1664126037000000000</td>\n",
              "      <td>1574084806756950016</td>\n",
              "      <td>RT @frajolin: esse é o frajola teve obstrução ...</td>\n",
              "      <td>@frajolin frajola obstrução urinária passar 2 ...</td>\n",
              "      <td>frajolin frajola obstrução urinária passar 2 ...</td>\n",
              "      <td>Neutro</td>\n",
              "    </tr>\n",
              "    <tr>\n",
              "      <th>6</th>\n",
              "      <td>1664126035000000000</td>\n",
              "      <td>1574084799484010496</td>\n",
              "      <td>RT @lemonapp_br: Se falamos de blockchain, $BU...</td>\n",
              "      <td>@lemonapp_br falamos blockchain $busd token er...</td>\n",
              "      <td>lemonapp br falamos blockchain  busd token er...</td>\n",
              "      <td>Neutro</td>\n",
              "    </tr>\n",
              "    <tr>\n",
              "      <th>7</th>\n",
              "      <td>1664126035000000000</td>\n",
              "      <td>1574084799391834112</td>\n",
              "      <td>@Wess101088 @tesoureiros 51 imoveis que foram ...</td>\n",
              "      <td>@wess101088 @tesoureiros 51 imoveis moeda corr...</td>\n",
              "      <td>wess101088  tesoureiros 51 imoveis moeda corr...</td>\n",
              "      <td>Negativo</td>\n",
              "    </tr>\n",
              "    <tr>\n",
              "      <th>8</th>\n",
              "      <td>1664126031000000000</td>\n",
              "      <td>1574084778839580672</td>\n",
              "      <td>Vou pagar na mesma moeda até a pessoa se senti...</td>\n",
              "      <td>vou pagar mesma moeda pessoa sentir mal</td>\n",
              "      <td>vou pagar mesma moeda pessoa sentir mal</td>\n",
              "      <td>Neutro</td>\n",
              "    </tr>\n",
              "    <tr>\n",
              "      <th>9</th>\n",
              "      <td>1664126007000000000</td>\n",
              "      <td>1574084682269892608</td>\n",
              "      <td>@diogo_rossi ai sim,eu não manjo muito de como...</td>\n",
              "      <td>@diogo_rossi ai simeu manjo moeda dolar bem es...</td>\n",
              "      <td>diogo rossi ai simeu manjo moeda dolar bem es...</td>\n",
              "      <td>Neutro</td>\n",
              "    </tr>\n",
              "    <tr>\n",
              "      <th>10</th>\n",
              "      <td>1664126004000000000</td>\n",
              "      <td>1574084667082702848</td>\n",
              "      <td>@CLEBERJUNIOARTI @LulaOficial 51 imóveis em mo...</td>\n",
              "      <td>@cleberjunioai @lulaoficial 51 imóveis moeda c...</td>\n",
              "      <td>cleberjunioai  lulaoficial 51 imóveis moeda c...</td>\n",
              "      <td>Neutro</td>\n",
              "    </tr>\n",
              "    <tr>\n",
              "      <th>11</th>\n",
              "      <td>1664125998000000000</td>\n",
              "      <td>1574084640998039552</td>\n",
              "      <td>RT @ramonagusyeva: A Sérvia é um país com uma ...</td>\n",
              "      <td>@ramonagusyeva sérvia país população torno 7 m...</td>\n",
              "      <td>ramonagusyeva sérvia país população torno 7 m...</td>\n",
              "      <td>Negativo</td>\n",
              "    </tr>\n",
              "    <tr>\n",
              "      <th>12</th>\n",
              "      <td>1664125993000000000</td>\n",
              "      <td>1574084622769602560</td>\n",
              "      <td>@BoessioMonica Os Minions estão dizendo que mo...</td>\n",
              "      <td>@boessiomonica minions dizendo moeda corrente ...</td>\n",
              "      <td>boessiomonica minions dizendo moeda corrente ...</td>\n",
              "      <td>Neutro</td>\n",
              "    </tr>\n",
              "    <tr>\n",
              "      <th>13</th>\n",
              "      <td>1664125957000000000</td>\n",
              "      <td>1574084472487682048</td>\n",
              "      <td>@GuilhermeBoulos Nunca vi comprar imóvel com d...</td>\n",
              "      <td>@guilhermeboulos nunca vi comprar imóvel dinhe...</td>\n",
              "      <td>guilhermeboulos nunca vi comprar imóvel dinhe...</td>\n",
              "      <td>Negativo</td>\n",
              "    </tr>\n",
              "    <tr>\n",
              "      <th>14</th>\n",
              "      <td>1664125943000000000</td>\n",
              "      <td>1574084410147749888</td>\n",
              "      <td>gente acabou de me ocorrer uma coisa aqui que ...</td>\n",
              "      <td>gente acabou ocorrer coisa aqui talvez expliqu...</td>\n",
              "      <td>gente acabou ocorrer coisa aqui talvez expliqu...</td>\n",
              "      <td>Neutro</td>\n",
              "    </tr>\n",
              "    <tr>\n",
              "      <th>15</th>\n",
              "      <td>1664125896000000000</td>\n",
              "      <td>1574084212591845376</td>\n",
              "      <td>@liviaqui Eu sou a favor de pagar na mesma moe...</td>\n",
              "      <td>@liviaqui favor pagar mesma moeda constranger omi</td>\n",
              "      <td>liviaqui favor pagar mesma moeda constranger omi</td>\n",
              "      <td>Neutro</td>\n",
              "    </tr>\n",
              "    <tr>\n",
              "      <th>16</th>\n",
              "      <td>1664125891000000000</td>\n",
              "      <td>1574084194254442496</td>\n",
              "      <td>RT @hibraindeiver: @freu_rodrigues Eu moro no ...</td>\n",
              "      <td>@hibraindeiver @freu_rodrigues moro interior m...</td>\n",
              "      <td>hibraindeiver  freu rodrigues moro interior m...</td>\n",
              "      <td>Negativo</td>\n",
              "    </tr>\n",
              "    <tr>\n",
              "      <th>17</th>\n",
              "      <td>1664125836000000000</td>\n",
              "      <td>1574083964398366720</td>\n",
              "      <td>\"Não foi em dinheiro vivo, foi em moeda corren...</td>\n",
              "      <td>\"não dinheiro vivo moeda corrente\" penseeee pr...</td>\n",
              "      <td>não dinheiro vivo moeda corrente  penseeee pr...</td>\n",
              "      <td>Negativo</td>\n",
              "    </tr>\n",
              "    <tr>\n",
              "      <th>18</th>\n",
              "      <td>1664125824000000000</td>\n",
              "      <td>1574083912326086656</td>\n",
              "      <td>A Sérvia é um país com uma população em torno ...</td>\n",
              "      <td>sérvia país população torno 7 milhões habitant...</td>\n",
              "      <td>sérvia país população torno 7 milhões habitant...</td>\n",
              "      <td>Negativo</td>\n",
              "    </tr>\n",
              "    <tr>\n",
              "      <th>19</th>\n",
              "      <td>1664125744000000000</td>\n",
              "      <td>1574083575024156672</td>\n",
              "      <td>@dojeitoquefor @OscarFilho Aproveita que tá no...</td>\n",
              "      <td>@dojeitoquefor @oscarfilho aproveita tá google...</td>\n",
              "      <td>dojeitoquefor  oscarfilho aproveita tá google...</td>\n",
              "      <td>Neutro</td>\n",
              "    </tr>\n",
              "    <tr>\n",
              "      <th>20</th>\n",
              "      <td>1664125678000000000</td>\n",
              "      <td>1574083299823259648</td>\n",
              "      <td>@folha A esquerda tóxica ainda não entendeu  q...</td>\n",
              "      <td>@folha esquerda tóxica ainda entendeu q povo s...</td>\n",
              "      <td>folha esquerda tóxica ainda entendeu q povo s...</td>\n",
              "      <td>Negativo</td>\n",
              "    </tr>\n",
              "    <tr>\n",
              "      <th>21</th>\n",
              "      <td>1664125648000000000</td>\n",
              "      <td>1574083175940243456</td>\n",
              "      <td>Quando tudo melhorar espero que não digam por ...</td>\n",
              "      <td>tudo melhorar espero digam aí marra soberba si...</td>\n",
              "      <td>tudo melhorar espero digam aí marra soberba si...</td>\n",
              "      <td>Neutro</td>\n",
              "    </tr>\n",
              "    <tr>\n",
              "      <th>22</th>\n",
              "      <td>1664125645000000000</td>\n",
              "      <td>1574083162505887744</td>\n",
              "      <td>@andretrig Não adianta espernear, para hoje só...</td>\n",
              "      <td>@andretrig adianta espernear hoje bosta bolson...</td>\n",
              "      <td>andretrig adianta espernear hoje bosta bolson...</td>\n",
              "      <td>Neutro</td>\n",
              "    </tr>\n",
              "    <tr>\n",
              "      <th>23</th>\n",
              "      <td>1664125615000000000</td>\n",
              "      <td>1574083034688749568</td>\n",
              "      <td>RT @derflecha: essa reportagem do FT é assusta...</td>\n",
              "      <td>@derflecha repoagem ft assustadora ocidente co...</td>\n",
              "      <td>derflecha repoagem ft assustadora ocidente co...</td>\n",
              "      <td>Neutro</td>\n",
              "    </tr>\n",
              "    <tr>\n",
              "      <th>24</th>\n",
              "      <td>1664125589000000000</td>\n",
              "      <td>1574082928820523008</td>\n",
              "      <td>Vou p Moeda 🥳🥳🥳🥳</td>\n",
              "      <td>vou p moeda 🥳🥳🥳🥳</td>\n",
              "      <td>vou p moeda</td>\n",
              "      <td>Neutro</td>\n",
              "    </tr>\n",
              "    <tr>\n",
              "      <th>25</th>\n",
              "      <td>1664125547000000000</td>\n",
              "      <td>1574082752911052800</td>\n",
              "      <td>Rebeca conheceu os dois lados da moeda kkkkkkkkk</td>\n",
              "      <td>rebeca conheceu dois lados moeda kkkkkkkkk</td>\n",
              "      <td>rebeca conheceu dois lados moeda kkkkkkkkk</td>\n",
              "      <td>Negativo</td>\n",
              "    </tr>\n",
              "    <tr>\n",
              "      <th>26</th>\n",
              "      <td>1664125542000000000</td>\n",
              "      <td>1574082728408272896</td>\n",
              "      <td>RT @ToF_BR: #TowerofFantasy ⚔ Corrida de Supri...</td>\n",
              "      <td>@tof_br #toweroffantasy ⚔ corrida suprimentos ...</td>\n",
              "      <td>tof br  toweroffantasy   corrida suprimentos ...</td>\n",
              "      <td>Neutro</td>\n",
              "    </tr>\n",
              "    <tr>\n",
              "      <th>27</th>\n",
              "      <td>1664125360000000000</td>\n",
              "      <td>1574081966512775168</td>\n",
              "      <td>RT @tisemherois: Interessante... os EUA hipote...</td>\n",
              "      <td>@tisemherois interessante eua hipoteca apoio l...</td>\n",
              "      <td>tisemherois interessante eua hipoteca apoio l...</td>\n",
              "      <td>Neutro</td>\n",
              "    </tr>\n",
              "    <tr>\n",
              "      <th>28</th>\n",
              "      <td>1664125315000000000</td>\n",
              "      <td>1574081776401584128</td>\n",
              "      <td>@KauzinCRF Fan token \\n\\nO fan token é um util...</td>\n",
              "      <td>@kauzincrf fan token fan token utility token l...</td>\n",
              "      <td>kauzincrf fan token fan token utility token l...</td>\n",
              "      <td>Neutro</td>\n",
              "    </tr>\n",
              "    <tr>\n",
              "      <th>29</th>\n",
              "      <td>1664125298000000000</td>\n",
              "      <td>1574081704418938880</td>\n",
              "      <td>@folha Moeda corrente não é dinheiro vivo.</td>\n",
              "      <td>@folha moeda corrente dinheiro vivo</td>\n",
              "      <td>folha moeda corrente dinheiro vivo</td>\n",
              "      <td>Negativo</td>\n",
              "    </tr>\n",
              "    <tr>\n",
              "      <th>30</th>\n",
              "      <td>1664125286000000000</td>\n",
              "      <td>1574081656159457280</td>\n",
              "      <td>@glauber1rocha @jribeiromello @UOLNoticias Se ...</td>\n",
              "      <td>@glauber1rocha @jribeiromello @uolnoticias jor...</td>\n",
              "      <td>glauber1rocha  jribeiromello  uolnoticias jor...</td>\n",
              "      <td>Negativo</td>\n",
              "    </tr>\n",
              "    <tr>\n",
              "      <th>31</th>\n",
              "      <td>1664125237000000000</td>\n",
              "      <td>1574081449162055680</td>\n",
              "      <td>RT @tylersigma: (juntando moeda pra comprar pã...</td>\n",
              "      <td>@tylersigma juntando moeda pra comprar pão doc...</td>\n",
              "      <td>tylersigma juntando moeda pra comprar pão doc...</td>\n",
              "      <td>Neutro</td>\n",
              "    </tr>\n",
              "    <tr>\n",
              "      <th>32</th>\n",
              "      <td>1664125223000000000</td>\n",
              "      <td>1574081389791682560</td>\n",
              "      <td>@FachinettiJean @FlavioBolsonaro Luladrão não ...</td>\n",
              "      <td>@fachinettijean @flaviobolsonaro luladrão comp...</td>\n",
              "      <td>fachinettijean  flaviobolsonaro luladrão comp...</td>\n",
              "      <td>Negativo</td>\n",
              "    </tr>\n",
              "    <tr>\n",
              "      <th>33</th>\n",
              "      <td>1664125220000000000</td>\n",
              "      <td>1574081378609922048</td>\n",
              "      <td>eu fiz dois storys na moeda ontem, mano??? eu ...</td>\n",
              "      <td>fiz dois storys moeda ontem mano??? naquela hr...</td>\n",
              "      <td>fiz dois storys moeda ontem mano    naquela hr...</td>\n",
              "      <td>Neutro</td>\n",
              "    </tr>\n",
              "    <tr>\n",
              "      <th>34</th>\n",
              "      <td>1664125177000000000</td>\n",
              "      <td>1574081196853690368</td>\n",
              "      <td>RT @BlogNetoin: Em Delicious Party Precure, um...</td>\n",
              "      <td>@blognetoin delicious pay precure novo poder a...</td>\n",
              "      <td>blognetoin delicious pay precure novo poder a...</td>\n",
              "      <td>Neutro</td>\n",
              "    </tr>\n",
              "    <tr>\n",
              "      <th>35</th>\n",
              "      <td>1664125124000000000</td>\n",
              "      <td>1574080974941569024</td>\n",
              "      <td>Vish, paro pra pensar e olhe, eu já fui muito ...</td>\n",
              "      <td>vish paro pra pensar olhe pagar tudo mesma moe...</td>\n",
              "      <td>vish paro pra pensar olhe pagar tudo mesma moe...</td>\n",
              "      <td>Neutro</td>\n",
              "    </tr>\n",
              "    <tr>\n",
              "      <th>36</th>\n",
              "      <td>1664125109000000000</td>\n",
              "      <td>1574080913922670592</td>\n",
              "      <td>@KPst8708 @desbocadadobar @Metropoles Moeda co...</td>\n",
              "      <td>@kpst8708 @desbocadadobar @metropoles moeda co...</td>\n",
              "      <td>kpst8708  desbocadadobar  metropoles moeda co...</td>\n",
              "      <td>Neutro</td>\n",
              "    </tr>\n",
              "    <tr>\n",
              "      <th>37</th>\n",
              "      <td>1664125091000000000</td>\n",
              "      <td>1574080840308756480</td>\n",
              "      <td>@veramagalhaes @julianadalpiva Eu comprei meu ...</td>\n",
              "      <td>@veramagalhaes @julianadalpiva comprei apto ch...</td>\n",
              "      <td>veramagalhaes  julianadalpiva comprei apto ch...</td>\n",
              "      <td>Neutro</td>\n",
              "    </tr>\n",
              "    <tr>\n",
              "      <th>38</th>\n",
              "      <td>1664125061000000000</td>\n",
              "      <td>1574080710675161088</td>\n",
              "      <td>@Neca_Gi @CarlosBolsonaro Vc tem noção ou sabe...</td>\n",
              "      <td>@neca_gi @carlosbolsonaro noção sabe diferenci...</td>\n",
              "      <td>neca gi  carlosbolsonaro noção sabe diferenci...</td>\n",
              "      <td>Negativo</td>\n",
              "    </tr>\n",
              "    <tr>\n",
              "      <th>39</th>\n",
              "      <td>1664125006000000000</td>\n",
              "      <td>1574080482954051584</td>\n",
              "      <td>A Simone quer ser FEMINISTA, fazer pose de Fem...</td>\n",
              "      <td>simone quer feminista fazer pose feminista tem...</td>\n",
              "      <td>simone quer feminista fazer pose feminista tem...</td>\n",
              "      <td>Neutro</td>\n",
              "    </tr>\n",
              "    <tr>\n",
              "      <th>40</th>\n",
              "      <td>1664124995000000000</td>\n",
              "      <td>1574080434807373824</td>\n",
              "      <td>RT @SueliLeticia: @Pinarbrasil Fazendo uma mág...</td>\n",
              "      <td>@suelileticia @pinarbrasil fazendo mágica moed...</td>\n",
              "      <td>suelileticia  pinarbrasil fazendo mágica moed...</td>\n",
              "      <td>Neutro</td>\n",
              "    </tr>\n",
              "    <tr>\n",
              "      <th>41</th>\n",
              "      <td>1664124962000000000</td>\n",
              "      <td>1574080296588394496</td>\n",
              "      <td>@Pinarbrasil Fazendo uma mágica com uma moeda ...</td>\n",
              "      <td>@pinarbrasil fazendo mágica moeda #zorkarar</td>\n",
              "      <td>pinarbrasil fazendo mágica moeda  zorkarar</td>\n",
              "      <td>Neutro</td>\n",
              "    </tr>\n",
              "    <tr>\n",
              "      <th>42</th>\n",
              "      <td>1664124942000000000</td>\n",
              "      <td>1574080212966543360</td>\n",
              "      <td>(juntando moeda pra comprar pão doce literalme...</td>\n",
              "      <td>juntando moeda pra comprar pão doce literalmen...</td>\n",
              "      <td>juntando moeda pra comprar pão doce literalmen...</td>\n",
              "      <td>Neutro</td>\n",
              "    </tr>\n",
              "    <tr>\n",
              "      <th>43</th>\n",
              "      <td>1664124928000000000</td>\n",
              "      <td>1574080152891719680</td>\n",
              "      <td>RT @MinseokBrazil: [#VID] 25.09.22 | Xiumin no...</td>\n",
              "      <td>@minseokbrazil [#vid] 250922 | xiumin hk coin ...</td>\n",
              "      <td>minseokbrazil   vid  250922   xiumin hk coin ...</td>\n",
              "      <td>Neutro</td>\n",
              "    </tr>\n",
              "    <tr>\n",
              "      <th>44</th>\n",
              "      <td>1664124913000000000</td>\n",
              "      <td>1574080093500198912</td>\n",
              "      <td>@yukkikayama @belamattos_ @M_passart Acho que ...</td>\n",
              "      <td>@yukkikayama @belamattos_ @m_passa acho vended...</td>\n",
              "      <td>yukkikayama  belamattos   m passa acho vended...</td>\n",
              "      <td>Positivo</td>\n",
              "    </tr>\n",
              "    <tr>\n",
              "      <th>45</th>\n",
              "      <td>1664124860000000000</td>\n",
              "      <td>1574079868551286784</td>\n",
              "      <td>Moeda corrente é a moeda adotada em um país: n...</td>\n",
              "      <td>moeda corrente moeda adotada país brasil real ...</td>\n",
              "      <td>moeda corrente moeda adotada país brasil real ...</td>\n",
              "      <td>Neutro</td>\n",
              "    </tr>\n",
              "    <tr>\n",
              "      <th>46</th>\n",
              "      <td>1664124745000000000</td>\n",
              "      <td>1574079385413492736</td>\n",
              "      <td>@WAlexssandro Quase larguei uma moeda na virada</td>\n",
              "      <td>@walexssandro quase larguei moeda virada</td>\n",
              "      <td>walexssandro quase larguei moeda virada</td>\n",
              "      <td>Neutro</td>\n",
              "    </tr>\n",
              "    <tr>\n",
              "      <th>47</th>\n",
              "      <td>1664124705000000000</td>\n",
              "      <td>1574079220476674048</td>\n",
              "      <td>céu assim com 20 reais em moeda https://t.co/q...</td>\n",
              "      <td>céu assim 20 reais moeda</td>\n",
              "      <td>céu assim 20 reais moeda</td>\n",
              "      <td>Neutro</td>\n",
              "    </tr>\n",
              "    <tr>\n",
              "      <th>48</th>\n",
              "      <td>1664124694000000000</td>\n",
              "      <td>1574079174687412224</td>\n",
              "      <td>Uma grande honra para um grande fã de tênis! 💙...</td>\n",
              "      <td>grande honra grande fã tênis! 💙 tom hiddleston...</td>\n",
              "      <td>grande honra grande fã tênis    tom hiddleston...</td>\n",
              "      <td>Neutro</td>\n",
              "    </tr>\n",
              "    <tr>\n",
              "      <th>49</th>\n",
              "      <td>1664124664000000000</td>\n",
              "      <td>1574079045397979136</td>\n",
              "      <td>nossa mas se existisse um evento de fandons c ...</td>\n",
              "      <td>existisse evento fandons c cz blink fotografad...</td>\n",
              "      <td>existisse evento fandons c cz blink fotografad...</td>\n",
              "      <td>Positivo</td>\n",
              "    </tr>\n",
              "  </tbody>\n",
              "</table>\n",
              "</div>\n",
              "      <button class=\"colab-df-convert\" onclick=\"convertToInteractive('df-937ab1d8-4481-437a-81fa-1c923a49e5ca')\"\n",
              "              title=\"Convert this dataframe to an interactive table.\"\n",
              "              style=\"display:none;\">\n",
              "        \n",
              "  <svg xmlns=\"http://www.w3.org/2000/svg\" height=\"24px\"viewBox=\"0 0 24 24\"\n",
              "       width=\"24px\">\n",
              "    <path d=\"M0 0h24v24H0V0z\" fill=\"none\"/>\n",
              "    <path d=\"M18.56 5.44l.94 2.06.94-2.06 2.06-.94-2.06-.94-.94-2.06-.94 2.06-2.06.94zm-11 1L8.5 8.5l.94-2.06 2.06-.94-2.06-.94L8.5 2.5l-.94 2.06-2.06.94zm10 10l.94 2.06.94-2.06 2.06-.94-2.06-.94-.94-2.06-.94 2.06-2.06.94z\"/><path d=\"M17.41 7.96l-1.37-1.37c-.4-.4-.92-.59-1.43-.59-.52 0-1.04.2-1.43.59L10.3 9.45l-7.72 7.72c-.78.78-.78 2.05 0 2.83L4 21.41c.39.39.9.59 1.41.59.51 0 1.02-.2 1.41-.59l7.78-7.78 2.81-2.81c.8-.78.8-2.07 0-2.86zM5.41 20L4 18.59l7.72-7.72 1.47 1.35L5.41 20z\"/>\n",
              "  </svg>\n",
              "      </button>\n",
              "      \n",
              "  <style>\n",
              "    .colab-df-container {\n",
              "      display:flex;\n",
              "      flex-wrap:wrap;\n",
              "      gap: 12px;\n",
              "    }\n",
              "\n",
              "    .colab-df-convert {\n",
              "      background-color: #E8F0FE;\n",
              "      border: none;\n",
              "      border-radius: 50%;\n",
              "      cursor: pointer;\n",
              "      display: none;\n",
              "      fill: #1967D2;\n",
              "      height: 32px;\n",
              "      padding: 0 0 0 0;\n",
              "      width: 32px;\n",
              "    }\n",
              "\n",
              "    .colab-df-convert:hover {\n",
              "      background-color: #E2EBFA;\n",
              "      box-shadow: 0px 1px 2px rgba(60, 64, 67, 0.3), 0px 1px 3px 1px rgba(60, 64, 67, 0.15);\n",
              "      fill: #174EA6;\n",
              "    }\n",
              "\n",
              "    [theme=dark] .colab-df-convert {\n",
              "      background-color: #3B4455;\n",
              "      fill: #D2E3FC;\n",
              "    }\n",
              "\n",
              "    [theme=dark] .colab-df-convert:hover {\n",
              "      background-color: #434B5C;\n",
              "      box-shadow: 0px 1px 3px 1px rgba(0, 0, 0, 0.15);\n",
              "      filter: drop-shadow(0px 1px 2px rgba(0, 0, 0, 0.3));\n",
              "      fill: #FFFFFF;\n",
              "    }\n",
              "  </style>\n",
              "\n",
              "      <script>\n",
              "        const buttonEl =\n",
              "          document.querySelector('#df-937ab1d8-4481-437a-81fa-1c923a49e5ca button.colab-df-convert');\n",
              "        buttonEl.style.display =\n",
              "          google.colab.kernel.accessAllowed ? 'block' : 'none';\n",
              "\n",
              "        async function convertToInteractive(key) {\n",
              "          const element = document.querySelector('#df-937ab1d8-4481-437a-81fa-1c923a49e5ca');\n",
              "          const dataTable =\n",
              "            await google.colab.kernel.invokeFunction('convertToInteractive',\n",
              "                                                     [key], {});\n",
              "          if (!dataTable) return;\n",
              "\n",
              "          const docLinkHtml = 'Like what you see? Visit the ' +\n",
              "            '<a target=\"_blank\" href=https://colab.research.google.com/notebooks/data_table.ipynb>data table notebook</a>'\n",
              "            + ' to learn more about interactive tables.';\n",
              "          element.innerHTML = '';\n",
              "          dataTable['output_type'] = 'display_data';\n",
              "          await google.colab.output.renderOutput(dataTable, element);\n",
              "          const docLink = document.createElement('div');\n",
              "          docLink.innerHTML = docLinkHtml;\n",
              "          element.appendChild(docLink);\n",
              "        }\n",
              "      </script>\n",
              "    </div>\n",
              "  </div>\n",
              "  "
            ]
          },
          "metadata": {},
          "execution_count": 33
        }
      ]
    },
    {
      "cell_type": "code",
      "source": [
        "import json\n",
        "tl.iloc[:50].to_json('tweets_sentimentos.json', orient = 'records')"
      ],
      "metadata": {
        "id": "D2FVdBQPVu2W"
      },
      "execution_count": null,
      "outputs": []
    },
    {
      "cell_type": "code",
      "source": [
        "resultados = cross_val_predict(modelo, freq_tweets, classes, cv=10)"
      ],
      "metadata": {
        "id": "yrjJqWH3kjCZ"
      },
      "execution_count": null,
      "outputs": []
    },
    {
      "cell_type": "code",
      "source": [
        "metrics.accuracy_score(classes,resultados)"
      ],
      "metadata": {
        "colab": {
          "base_uri": "https://localhost:8080/"
        },
        "id": "jdYgjc6ykjKd",
        "outputId": "1e2cd5c5-4f36-4112-b79c-cb3d777964df"
      },
      "execution_count": null,
      "outputs": [
        {
          "output_type": "execute_result",
          "data": {
            "text/plain": [
              "0.8664353859496965"
            ]
          },
          "metadata": {},
          "execution_count": 35
        }
      ]
    },
    {
      "cell_type": "code",
      "source": [
        "print(metrics.classification_report(classes,resultados))"
      ],
      "metadata": {
        "colab": {
          "base_uri": "https://localhost:8080/"
        },
        "id": "z9u8hkdAkteh",
        "outputId": "52de7d24-dbaf-4f0d-e1c7-a454a7658819"
      },
      "execution_count": null,
      "outputs": [
        {
          "output_type": "stream",
          "name": "stdout",
          "text": [
            "              precision    recall  f1-score   support\n",
            "\n",
            "    Negativo       0.77      0.89      0.82       951\n",
            "      Neutro       0.81      0.84      0.82      1974\n",
            "    Positivo       0.96      0.88      0.91      2840\n",
            "\n",
            "    accuracy                           0.87      5765\n",
            "   macro avg       0.84      0.87      0.85      5765\n",
            "weighted avg       0.87      0.87      0.87      5765\n",
            "\n"
          ]
        }
      ]
    },
    {
      "cell_type": "code",
      "source": [
        "print (pd.crosstab(classes, resultados, rownames=['Real'], colnames=['Predito'], margins=True))"
      ],
      "metadata": {
        "colab": {
          "base_uri": "https://localhost:8080/"
        },
        "id": "HcdfSdXDktim",
        "outputId": "21fbfcd1-53ab-4b2d-a549-3517ef9040cc"
      },
      "execution_count": null,
      "outputs": [
        {
          "output_type": "stream",
          "name": "stdout",
          "text": [
            "Predito   Negativo  Neutro  Positivo   All\n",
            "Real                                      \n",
            "Negativo       846     100         5   951\n",
            "Neutro         206    1656       112  1974\n",
            "Positivo        53     294      2493  2840\n",
            "All           1105    2050      2610  5765\n"
          ]
        }
      ]
    },
    {
      "cell_type": "code",
      "source": [
        "vectorizer = CountVectorizer(ngram_range=(1,2))\n",
        "freq_tweets = vectorizer.fit_transform(tweets)\n",
        "modelo = MultinomialNB()\n",
        "modelo.fit(freq_tweets,classes)"
      ],
      "metadata": {
        "colab": {
          "base_uri": "https://localhost:8080/"
        },
        "id": "TNWGJWc9ktmi",
        "outputId": "5a0fda49-c437-4735-b69e-8fa64cabedca"
      },
      "execution_count": null,
      "outputs": [
        {
          "output_type": "execute_result",
          "data": {
            "text/plain": [
              "MultinomialNB()"
            ]
          },
          "metadata": {},
          "execution_count": 38
        }
      ]
    },
    {
      "cell_type": "code",
      "source": [
        "resultados = cross_val_predict(modelo, freq_tweets, classes, cv=10)"
      ],
      "metadata": {
        "id": "ofDzEb9rlapi"
      },
      "execution_count": null,
      "outputs": []
    },
    {
      "cell_type": "code",
      "source": [
        "metrics.accuracy_score(classes,resultados)"
      ],
      "metadata": {
        "colab": {
          "base_uri": "https://localhost:8080/"
        },
        "id": "2DxhisR1ldtt",
        "outputId": "241e937e-3f51-478b-84aa-7a143c1c347f"
      },
      "execution_count": null,
      "outputs": [
        {
          "output_type": "execute_result",
          "data": {
            "text/plain": [
              "0.8702515177797051"
            ]
          },
          "metadata": {},
          "execution_count": 40
        }
      ]
    },
    {
      "cell_type": "code",
      "source": [
        "print(metrics.classification_report(classes,resultados))"
      ],
      "metadata": {
        "colab": {
          "base_uri": "https://localhost:8080/"
        },
        "id": "B_btPDxElifQ",
        "outputId": "6344c50f-7b8d-4e7d-9cac-93299d9b04fc"
      },
      "execution_count": null,
      "outputs": [
        {
          "output_type": "stream",
          "name": "stdout",
          "text": [
            "              precision    recall  f1-score   support\n",
            "\n",
            "    Negativo       0.70      0.92      0.79       951\n",
            "      Neutro       0.85      0.84      0.84      1974\n",
            "    Positivo       0.97      0.88      0.92      2840\n",
            "\n",
            "    accuracy                           0.87      5765\n",
            "   macro avg       0.84      0.88      0.85      5765\n",
            "weighted avg       0.88      0.87      0.87      5765\n",
            "\n"
          ]
        }
      ]
    },
    {
      "cell_type": "code",
      "source": [
        "print (pd.crosstab(classes, resultados, rownames=['Real'], colnames=['Predito'], margins=True))"
      ],
      "metadata": {
        "colab": {
          "base_uri": "https://localhost:8080/"
        },
        "id": "OtynQo_Plnz9",
        "outputId": "fa3fd32c-5b62-4205-a44a-012a801a50bd"
      },
      "execution_count": null,
      "outputs": [
        {
          "output_type": "stream",
          "name": "stdout",
          "text": [
            "Predito   Negativo  Neutro  Positivo   All\n",
            "Real                                      \n",
            "Negativo       875      76         0   951\n",
            "Neutro         252    1651        71  1974\n",
            "Positivo       126     223      2491  2840\n",
            "All           1253    1950      2562  5765\n"
          ]
        }
      ]
    }
  ]
}